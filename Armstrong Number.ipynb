{
 "cells": [
  {
   "cell_type": "markdown",
   "id": "bf18f70b",
   "metadata": {},
   "source": [
    "# Armstrong number"
   ]
  },
  {
   "cell_type": "markdown",
   "id": "014b2334",
   "metadata": {},
   "source": [
    "## An Armstrong number is a key concept in the field of encryption and decryption for data security. The general concept of processing the digits of a number is a fundamental technique. You can solve many tasks with this approach, like summing digits, getting the product of digits, counting digits, and reversing a number."
   ]
  },
  {
   "cell_type": "code",
   "execution_count": 1,
   "id": "9103ca24",
   "metadata": {},
   "outputs": [
    {
     "name": "stdout",
     "output_type": "stream",
     "text": [
      "Enter ur Number: 153\n",
      "153 is Armstrong number\n"
     ]
    }
   ],
   "source": [
    "# Check Given number is Armstrong Number or not\n",
    "\n",
    "number=int(input('Enter ur Number: '))\n",
    "dummy=number\n",
    "length=len(str(number))\n",
    "total=0\n",
    "while dummy>0:\n",
    "    rem=dummy%10\n",
    "    total+=rem**length\n",
    "    dummy//=10\n",
    "if total==number:\n",
    "    print(f'{number} is Armstrong number')\n",
    "else:\n",
    "    print(f'{number} is not Armstrong number')"
   ]
  },
  {
   "cell_type": "code",
   "execution_count": 3,
   "id": "96032de9",
   "metadata": {},
   "outputs": [
    {
     "name": "stdout",
     "output_type": "stream",
     "text": [
      "1\n",
      "2\n",
      "3\n",
      "4\n",
      "5\n",
      "6\n",
      "7\n",
      "8\n",
      "9\n",
      "153\n"
     ]
    }
   ],
   "source": [
    "# first 10 Armstrong number\n",
    "\n",
    "number=1\n",
    "count=0\n",
    "while True:\n",
    "    dummy=number\n",
    "    length=len(str(number))\n",
    "    total=0\n",
    "    while dummy>0:\n",
    "        rem=dummy%10\n",
    "        total+=rem**length\n",
    "        dummy//=10\n",
    "    if total==number:\n",
    "        count+=1\n",
    "        print(number)\n",
    "    if count==10:\n",
    "        break\n",
    "    number+=1"
   ]
  },
  {
   "cell_type": "code",
   "execution_count": 7,
   "id": "b945b4fd",
   "metadata": {},
   "outputs": [
    {
     "name": "stdout",
     "output_type": "stream",
     "text": [
      "Enter which position u want Armstrong number : 15\n",
      "15 of the armstrong number is :8208\n"
     ]
    }
   ],
   "source": [
    "# Particular Armstrong number\n",
    "\n",
    "number=1\n",
    "count=0\n",
    "position=int(input('Enter which position u want Armstrong number : '))\n",
    "while True:\n",
    "    dummy=number\n",
    "    total=0\n",
    "    lenght=len(str(number))\n",
    "    while dummy>0:\n",
    "        rem=dummy%10\n",
    "        total+=rem**lenght\n",
    "        dummy//=10\n",
    "    if number==total:\n",
    "        count+=1\n",
    "    if position==count:\n",
    "        print(f'{position} of the armstrong number is :{number}')\n",
    "        break\n",
    "    number+=1"
   ]
  },
  {
   "cell_type": "code",
   "execution_count": null,
   "id": "1b22c5ca",
   "metadata": {},
   "outputs": [],
   "source": []
  }
 ],
 "metadata": {
  "kernelspec": {
   "display_name": "Python 3",
   "language": "python",
   "name": "python3"
  },
  "language_info": {
   "codemirror_mode": {
    "name": "ipython",
    "version": 3
   },
   "file_extension": ".py",
   "mimetype": "text/x-python",
   "name": "python",
   "nbconvert_exporter": "python",
   "pygments_lexer": "ipython3",
   "version": "3.8.8"
  }
 },
 "nbformat": 4,
 "nbformat_minor": 5
}
